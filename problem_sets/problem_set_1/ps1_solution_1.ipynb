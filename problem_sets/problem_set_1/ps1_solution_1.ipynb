{
 "cells": [
  {
   "cell_type": "markdown",
   "metadata": {},
   "source": [
    "# Problem Set #1: Supervised Learning\n",
    "[**Problem_set_1.pdf**](https://github.com/hsneto/stanford_cs229/blob/master/problem_sets/problem_set_1/ps1.pdf)"
   ]
  },
  {
   "cell_type": "markdown",
   "metadata": {},
   "source": [
    "## 1. Logistic Regression"
   ]
  },
  {
   "cell_type": "markdown",
   "metadata": {},
   "source": [
    "### 1.a)\n",
    "**Notes:**\n",
    "\n",
    "$i)$ If $g(z)=\\frac{1}{1+e^{-z}}$, then\n",
    "\n",
    "\\begin{align*}\n",
    "    \\frac{\\partial g(z)}{\\partial z} = \\frac{e^{-z}}{(1+e^{-z})^2} = g(z)(1-g(z))\n",
    "\\end{align*}\n",
    "\n",
    "$ii)$ For $h(x)=g(\\theta^Tx)$, we have\n",
    "\n",
    "\\begin{align*}\n",
    "    \\frac{\\partial h(x)}{\\partial \\theta_k} = h(x)(1-h(x))x_k\n",
    "\\end{align*}\n",
    "\n",
    "$iii)$\n",
    "\n",
    "\\begin{align*}\n",
    "    \\frac{\\partial}{\\partial \\theta_k}log(1+e^{-yx^T\\theta}) = \\frac{1}{1+e^{-yx^T\\theta}}yx = -h_\\theta (-yx)yx\n",
    "\\end{align*}"
   ]
  },
  {
   "cell_type": "markdown",
   "metadata": {},
   "source": [
    "Thus we have\n",
    "\n",
    "\\begin{align*}\n",
    "    \\frac{\\partial}{\\partial \\theta_k}J(\\theta) \n",
    "        &= \\frac{\\partial}{\\partial \\theta_k}\\Bigg[\\frac{1}{m}\\sum_{k=1}^m log(1+e^{-y^{(i)}\\theta^Tx^{(i)}})\\Bigg] \\\\\n",
    "        &= \\frac{1}{m}\\sum_{k=1}^m \\frac{1}{1+e^{-y^{(i)}\\theta^Tx^{(i)}}}y^{(i)}x_k^{(i)} \\\\\n",
    "        &= -\\frac{1}{m}\\sum_{k=1}^m h_\\theta(-y^{(i)}x^{(i)})y^{(i)}x_k^{(i)}\n",
    "\\end{align*}"
   ]
  },
  {
   "cell_type": "markdown",
   "metadata": {},
   "source": [
    "Therefore, the Hessian will be\n",
    "\n",
    "\\begin{align*}\n",
    "    H_{kl} &= \\frac{\\partial^2}{\\partial \\theta_k \\partial \\theta_l}J(\\theta) \\\\\n",
    "        &= -\\frac{1}{m}\\sum_{k=1}^m \\frac{\\partial}{\\partial \\theta_l}\\Bigg[h_\\theta(-y^{(i)}x^{(i)})y^{(i)}x_k^{(i)}\\Bigg] \\\\\n",
    "        &= \\frac{1}{m}\\sum_{k=1}^m h_\\theta(-y^{(i)}x^{(i)})(1-h_\\theta(-y^{(i)}x^{(i)}))y^{(i)}x_l^{(i)}y^{(i)}x_k^{(i)} \\\\\n",
    "        &= \\frac{1}{m}\\sum_{k=1}^m h_\\theta(x^{(i)})(1-h_\\theta(x^{(i)}))x_l^{(i)}x_k^{(i)}\n",
    "\\end{align*}\n",
    "\n",
    "So, \n",
    "\n",
    "\\begin{align*}\n",
    "    H = \\frac{1}{m}\\sum_{i=1}^m h(x^{(i)})(1-h(x^{(i)}))x^{(i)}x^{(i)T}\n",
    "\\end{align*}"
   ]
  },
  {
   "cell_type": "markdown",
   "metadata": {},
   "source": [
    "To prove $H$ is positive semidefinite, we show $z^THz \\geq 0$ for all $z$:\n",
    "\n",
    "\\begin{align*}\n",
    "    z^THz \n",
    "        &= \\frac{1}{m}z^T\\Bigg(\\sum_{i=1}^m h(x^{(i)})(1-h(x^{(i)}))x^{(i)}x^{(i)T} \\Bigg)z \\\\\n",
    "        &= \\frac{1}{m}\\sum_{i=1}^m h(x^{(i)})(1-h(x^{(i)}))z^Tx^{(i)}x^{(i)T}z \\\\\n",
    "        &= \\frac{1}{m}\\sum_{i=1}^m h(x^{(i)})(1-h(x^{(i)}))(z^Tx^{(i)})^2 \\geq 0\n",
    "\\end{align*}\n",
    "\n",
    "The last inequality holds, because $0\\leq h(x^{(i)})\\leq 1$, which implies $h(x^{(i)})(1-h(x^{(i)})) \\geq 0$, and $(z^Tx^{(i)})^2 \\geq 0$.\n",
    "\n",
    "Hence, $J(\\theta)$ is convex and it has no local minima."
   ]
  },
  {
   "cell_type": "markdown",
   "metadata": {},
   "source": [
    "### 1.b)\n",
    "\n",
    "**Data:**\n",
    "- [logistic_x.txt](http://cs229.stanford.edu/ps/ps1/logistic_x.txt)\n",
    "- [logistic_y.txt](http://cs229.stanford.edu/ps/ps1/logistic_y.txt)"
   ]
  },
  {
   "cell_type": "code",
   "execution_count": 1,
   "metadata": {},
   "outputs": [],
   "source": [
    "import numpy as np\n",
    "import pandas as pd\n",
    "import matplotlib.pyplot as plt\n",
    "\n",
    "X = pd.read_csv('http://cs229.stanford.edu/ps/ps1/logistic_x.txt', sep='\\ +', header=None, engine='python').values\n",
    "y = pd.read_csv('http://cs229.stanford.edu/ps/ps1/logistic_y.txt', sep='\\ +', header=None, engine='python').values"
   ]
  },
  {
   "cell_type": "markdown",
   "metadata": {},
   "source": [
    "The generalization of Newton's method (also called the Newton-Raphson method) is given by\n",
    "\n",
    "\\begin{align*}\n",
    "    \\theta := \\theta - H^{-1}\\nabla_{\\theta}\\ell(\\theta)\n",
    "\\end{align*}\n",
    "\n",
    "Note, the $H$ in the denominator may not be a valid mathematical expression as it is actually an inverse operation."
   ]
  },
  {
   "cell_type": "markdown",
   "metadata": {},
   "source": [
    "**Notes:**\n",
    "\n",
    "$i)$\n",
    "\n",
    "\\begin{align*}\n",
    "    h_\\theta(x)=g(\\theta^Tx)=\\frac{1}{1+e^{-\\theta^Tx}}\n",
    "\\end{align*}\n",
    "\n",
    "$ii)$\n",
    "\n",
    "\\begin{align*}\n",
    "    \\frac{\\partial}{\\partial \\theta_k}J(\\theta) \n",
    "        &= \\frac{\\partial}{\\partial \\theta_k}\\Bigg[\\frac{1}{m}\\sum_{k=1}^m log(1+e^{-y^{(i)}\\theta^Tx^{(i)}})\\Bigg] \\\\\n",
    "        &= \\frac{1}{m}\\sum_{k=1}^m \\frac{1}{1+e^{-y^{(i)}\\theta^Tx^{(i)}}}y^{(i)}x_k^{(i)} \\\\\n",
    "        &= -\\frac{1}{m}\\sum_{k=1}^m h_\\theta(-y^{(i)}x^{(i)})y^{(i)}x_k^{(i)}\n",
    "\\end{align*}\n",
    "\n",
    "$iii)$\n",
    "\n",
    "\\begin{align*}\n",
    "    H_{kl} &= \\frac{\\partial^2}{\\partial \\theta_k \\partial \\theta_l}J(\\theta) \\\\\n",
    "        &= -\\frac{1}{m}\\sum_{k=1}^m \\frac{\\partial}{\\partial \\theta_l}\\Bigg[h_\\theta(-y^{(i)}x^{(i)})y^{(i)}x_k^{(i)}\\Bigg] \\\\\n",
    "        &= \\frac{1}{m}\\sum_{k=1}^m h_\\theta(-y^{(i)}x^{(i)})(1-h_\\theta(-y^{(i)}x^{(i)}))y^{(i)}x_l^{(i)}y^{(i)}x_k^{(i)} \\\\\n",
    "        &= \\frac{1}{m}\\sum_{k=1}^m h_\\theta(x^{(i)})(1-h_\\theta(x^{(i)}))x_l^{(i)}x_k^{(i)}\n",
    "\\end{align*}\n",
    "\\begin{align*}\n",
    "    \\Big\\Downarrow \n",
    "\\end{align*}\n",
    "\\begin{align*}\n",
    "    H = \\frac{1}{m}\\sum_{i=1}^m h(x^{(i)})(1-h(x^{(i)}))x^{(i)}x^{(i)T}\n",
    "\\end{align*}"
   ]
  },
  {
   "cell_type": "code",
   "execution_count": 2,
   "metadata": {},
   "outputs": [],
   "source": [
    "class Logistic_regression(object):\n",
    "    def __init__(self, epochs = 100, error_max = 1e-3):\n",
    "        self.epochs = epochs\n",
    "        self.error_max = error_max\n",
    "        \n",
    "    def fit(self, X, y):\n",
    "        X = np.insert(X, 0, 1, axis=1)\n",
    "        self.weight_ = np.zeros(X.shape[1]) \n",
    "        it, error = 0, 0.\n",
    "        self.weight_list_ = []\n",
    "        self.weight_list_.append(self.weight_.copy())\n",
    "\n",
    "        while it<self.epochs:\n",
    "            z = y * X\n",
    "            grad = self.gradient(z)\n",
    "            H = self.hessian(X)\n",
    "            aux = np.linalg.inv(H).dot(grad) \n",
    "            self.weight_ -= aux\n",
    "\n",
    "            self.weight_list_.append(self.weight_.copy())\n",
    "            error = np.sum(abs(self.weight_list_[-1] - self.weight_list_[-2]))\n",
    "            it += 1\n",
    "            \n",
    "            if(error <= self.error_max):\n",
    "                break\n",
    "                \n",
    "    def hypotheses(self, z):\n",
    "        return 1/(1 + np.exp(-z.dot(self.weight_)))\n",
    "    \n",
    "    def gradient(self, z):\n",
    "        return np.mean(-self.hypotheses(-z)*z.T, axis=1)\n",
    "    \n",
    "    def hessian(self, X):\n",
    "        return (((self.hypotheses(X)*(1-self.hypotheses(X)))*X.T).dot(X))/X.shape[0]\n"
   ]
  },
  {
   "cell_type": "code",
   "execution_count": 3,
   "metadata": {},
   "outputs": [
    {
     "data": {
      "text/plain": [
       "array([-2.6205116 ,  0.76037154,  1.17194674])"
      ]
     },
     "execution_count": 3,
     "metadata": {},
     "output_type": "execute_result"
    }
   ],
   "source": [
    "classifier = Logistic_regression(epochs=20)\n",
    "classifier.fit(X, y)\n",
    "classifier.weight_"
   ]
  },
  {
   "cell_type": "markdown",
   "metadata": {},
   "source": [
    "### 1.c)"
   ]
  },
  {
   "cell_type": "code",
   "execution_count": 4,
   "metadata": {},
   "outputs": [
    {
     "data": {
      "text/plain": [
       "[<matplotlib.lines.Line2D at 0x7fc5bc0f3940>]"
      ]
     },
     "execution_count": 4,
     "metadata": {},
     "output_type": "execute_result"
    },
    {
     "data": {
      "image/png": "[encoded data removed]",
      "text/plain": [
       "<Figure size 432x288 with 1 Axes>"
      ]
     },
     "metadata": {},
     "output_type": "display_data"
    }
   ],
   "source": [
    "lab = []\n",
    "for i in range(y.size):\n",
    "    lab.append('g') if y[i]>0 else lab.append('b')\n",
    "plt.scatter(X[:,0], X[:,1], marker='x', color=lab)\n",
    "\n",
    "_xs = np.array([np.min(X[:,0]), np.max(X[:,0])])\n",
    "_ys = (classifier.weight_[0] + classifier.weight_[1] * _xs) / (- classifier.weight_[2])\n",
    "plt.plot(_xs, _ys, 'r')"
   ]
  },
  {
   "cell_type": "markdown",
   "metadata": {},
   "source": [
    "## 2. Poisson regression and the exponential family\n",
    "[Solution](https://github.com/hsneto/stanford_cs229/blob/master/problem_sets/problem_set_1/ps1_solution_2.ipynb)"
   ]
  },
  {
   "cell_type": "markdown",
   "metadata": {},
   "source": [
    "## 3. Gaussian discriminant analysis\n",
    "[Solution](https://github.com/hsneto/stanford_cs229/blob/master/problem_sets/problem_set_1/ps1_solution_3.ipynb)"
   ]
  },
  {
   "cell_type": "markdown",
   "metadata": {},
   "source": [
    "## 4.  Linear invariance of optimization algorithms\n",
    "[Solution](https://github.com/hsneto/stanford_cs229/blob/master/problem_sets/problem_set_1/ps1_solution_4.ipynb)"
   ]
  },
  {
   "cell_type": "markdown",
   "metadata": {},
   "source": [
    "## 5.  Regression for denoising quasar spectra\n",
    "[Solution](https://github.com/hsneto/stanford_cs229/blob/master/problem_sets/problem_set_1/ps1_solution_5.ipynb)"
   ]
  }
 ],
 "metadata": {
  "kernelspec": {
   "display_name": "Python 3",
   "language": "python",
   "name": "python3"
  },
  "language_info": {
   "codemirror_mode": {
    "name": "ipython",
    "version": 3
   },
   "file_extension": ".py",
   "mimetype": "text/x-python",
   "name": "python",
   "nbconvert_exporter": "python",
   "pygments_lexer": "ipython3",
   "version": "3.5.4"
  }
 },
 "nbformat": 4,
 "nbformat_minor": 2
}
